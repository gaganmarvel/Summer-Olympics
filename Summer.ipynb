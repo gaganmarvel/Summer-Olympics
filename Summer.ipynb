{
 "cells": [
  {
   "cell_type": "markdown",
   "metadata": {},
   "source": [
    "# Summer Olympics Data Analysis Assignment"
   ]
  },
  {
   "cell_type": "code",
   "execution_count": 1,
   "metadata": {},
   "outputs": [],
   "source": [
    "import pandas as pd\n",
    "import numpy as np\n",
    "import matplotlib.pyplot as plt"
   ]
  },
  {
   "cell_type": "code",
   "execution_count": 2,
   "metadata": {},
   "outputs": [],
   "source": [
    "df = pd.read_csv(\"summer.csv\")"
   ]
  },
  {
   "cell_type": "code",
   "execution_count": 3,
   "metadata": {},
   "outputs": [
    {
     "data": {
      "text/html": [
       "<div>\n",
       "<style scoped>\n",
       "    .dataframe tbody tr th:only-of-type {\n",
       "        vertical-align: middle;\n",
       "    }\n",
       "\n",
       "    .dataframe tbody tr th {\n",
       "        vertical-align: top;\n",
       "    }\n",
       "\n",
       "    .dataframe thead th {\n",
       "        text-align: right;\n",
       "    }\n",
       "</style>\n",
       "<table border=\"1\" class=\"dataframe\">\n",
       "  <thead>\n",
       "    <tr style=\"text-align: right;\">\n",
       "      <th></th>\n",
       "      <th>Year</th>\n",
       "      <th>City</th>\n",
       "      <th>Sport</th>\n",
       "      <th>Discipline</th>\n",
       "      <th>Athlete</th>\n",
       "      <th>Country</th>\n",
       "      <th>Gender</th>\n",
       "      <th>Event</th>\n",
       "      <th>Medal</th>\n",
       "    </tr>\n",
       "  </thead>\n",
       "  <tbody>\n",
       "    <tr>\n",
       "      <th>0</th>\n",
       "      <td>1896</td>\n",
       "      <td>Athens</td>\n",
       "      <td>Aquatics</td>\n",
       "      <td>Swimming</td>\n",
       "      <td>HAJOS, Alfred</td>\n",
       "      <td>HUN</td>\n",
       "      <td>Men</td>\n",
       "      <td>100M Freestyle</td>\n",
       "      <td>Gold</td>\n",
       "    </tr>\n",
       "    <tr>\n",
       "      <th>1</th>\n",
       "      <td>1896</td>\n",
       "      <td>Athens</td>\n",
       "      <td>Aquatics</td>\n",
       "      <td>Swimming</td>\n",
       "      <td>HERSCHMANN, Otto</td>\n",
       "      <td>AUT</td>\n",
       "      <td>Men</td>\n",
       "      <td>100M Freestyle</td>\n",
       "      <td>Silver</td>\n",
       "    </tr>\n",
       "    <tr>\n",
       "      <th>2</th>\n",
       "      <td>1896</td>\n",
       "      <td>Athens</td>\n",
       "      <td>Aquatics</td>\n",
       "      <td>Swimming</td>\n",
       "      <td>DRIVAS, Dimitrios</td>\n",
       "      <td>GRE</td>\n",
       "      <td>Men</td>\n",
       "      <td>100M Freestyle For Sailors</td>\n",
       "      <td>Bronze</td>\n",
       "    </tr>\n",
       "    <tr>\n",
       "      <th>3</th>\n",
       "      <td>1896</td>\n",
       "      <td>Athens</td>\n",
       "      <td>Aquatics</td>\n",
       "      <td>Swimming</td>\n",
       "      <td>MALOKINIS, Ioannis</td>\n",
       "      <td>GRE</td>\n",
       "      <td>Men</td>\n",
       "      <td>100M Freestyle For Sailors</td>\n",
       "      <td>Gold</td>\n",
       "    </tr>\n",
       "    <tr>\n",
       "      <th>4</th>\n",
       "      <td>1896</td>\n",
       "      <td>Athens</td>\n",
       "      <td>Aquatics</td>\n",
       "      <td>Swimming</td>\n",
       "      <td>CHASAPIS, Spiridon</td>\n",
       "      <td>GRE</td>\n",
       "      <td>Men</td>\n",
       "      <td>100M Freestyle For Sailors</td>\n",
       "      <td>Silver</td>\n",
       "    </tr>\n",
       "  </tbody>\n",
       "</table>\n",
       "</div>"
      ],
      "text/plain": [
       "   Year    City     Sport Discipline             Athlete Country Gender  \\\n",
       "0  1896  Athens  Aquatics   Swimming       HAJOS, Alfred     HUN    Men   \n",
       "1  1896  Athens  Aquatics   Swimming    HERSCHMANN, Otto     AUT    Men   \n",
       "2  1896  Athens  Aquatics   Swimming   DRIVAS, Dimitrios     GRE    Men   \n",
       "3  1896  Athens  Aquatics   Swimming  MALOKINIS, Ioannis     GRE    Men   \n",
       "4  1896  Athens  Aquatics   Swimming  CHASAPIS, Spiridon     GRE    Men   \n",
       "\n",
       "                        Event   Medal  \n",
       "0              100M Freestyle    Gold  \n",
       "1              100M Freestyle  Silver  \n",
       "2  100M Freestyle For Sailors  Bronze  \n",
       "3  100M Freestyle For Sailors    Gold  \n",
       "4  100M Freestyle For Sailors  Silver  "
      ]
     },
     "execution_count": 3,
     "metadata": {},
     "output_type": "execute_result"
    }
   ],
   "source": [
    "df.head()"
   ]
  },
  {
   "cell_type": "markdown",
   "metadata": {},
   "source": [
    "### 1. In how many cities Summer Olympics is held so far?"
   ]
  },
  {
   "cell_type": "code",
   "execution_count": 4,
   "metadata": {},
   "outputs": [
    {
     "name": "stdout",
     "output_type": "stream",
     "text": [
      "Total :  22\n",
      "_____________________________________\n",
      "Cities where Summer Olympics is held: \n",
      "Athens\n",
      "Paris\n",
      "St Louis\n",
      "London\n",
      "Stockholm\n",
      "Antwerp\n",
      "Amsterdam\n",
      "Los Angeles\n",
      "Berlin\n",
      "Helsinki\n",
      "Melbourne / Stockholm\n",
      "Rome\n",
      "Tokyo\n",
      "Mexico\n",
      "Munich\n",
      "Montreal\n",
      "Moscow\n",
      "Seoul\n",
      "Barcelona\n",
      "Atlanta\n",
      "Sydney\n",
      "Beijing\n"
     ]
    }
   ],
   "source": [
    "print(\"Total : \",len(df[\"City\"].unique()))\n",
    "print(\"_____________________________________\")\n",
    "print(\"Cities where Summer Olympics is held: \")\n",
    "for city in df['City'].unique():\n",
    "    print(city)"
   ]
  },
  {
   "cell_type": "markdown",
   "metadata": {},
   "source": [
    "### 2. Which sport is having most number of Gold Medals so far? (Top 5)"
   ]
  },
  {
   "cell_type": "code",
   "execution_count": 6,
   "metadata": {},
   "outputs": [
    {
     "data": {
      "text/plain": [
       "Text(0.5, 1.0, 'Top 5 Sport with Most Number of Gold Medals')"
      ]
     },
     "execution_count": 6,
     "metadata": {},
     "output_type": "execute_result"
    },
    {
     "data": {
      "image/png": "[encoded data removed]",
      "text/plain": [
       "<Figure size 576x360 with 1 Axes>"
      ]
     },
     "metadata": {
      "needs_background": "light"
     },
     "output_type": "display_data"
    }
   ],
   "source": [
    "# using groupby\n",
    "\n",
    "df_gold=df[df['Medal']=='Gold']\n",
    "\n",
    "df_gold.groupby('Sport').count()['Medal'].sort_values(ascending=False).head().plot.bar(figsize=(8,5))\n",
    "plt.title('Top 5 Sport with Most Number of Gold Medals')"
   ]
  },
  {
   "cell_type": "code",
   "execution_count": 7,
   "metadata": {},
   "outputs": [
    {
     "data": {
      "text/plain": [
       "Text(0.5, 1.0, 'Top 5 Sports with Most Number of Gold Medals')"
      ]
     },
     "execution_count": 7,
     "metadata": {},
     "output_type": "execute_result"
    },
    {
     "data": {
      "image/png": "[encoded data removed]",
      "text/plain": [
       "<Figure size 576x360 with 1 Axes>"
      ]
     },
     "metadata": {
      "needs_background": "light"
     },
     "output_type": "display_data"
    }
   ],
   "source": [
    "# without using groupby\n",
    "\n",
    "df_gold=df[df['Medal']=='Gold']\n",
    "\n",
    "data=[]\n",
    "\n",
    "for sport in df_gold['Sport'].unique():\n",
    "    data.append([sport , len(df_gold[df_gold['Sport']==sport])])\n",
    "\n",
    "pd.DataFrame(data,columns=['Sport','Gold']).sort_values(by='Gold', ascending=False).head().plot(x='Sport',y='Gold',kind='bar',figsize=(8,5))\n",
    "plt.title('Top 5 Sports with Most Number of Gold Medals')"
   ]
  },
  {
   "cell_type": "markdown",
   "metadata": {},
   "source": [
    "### 3. Which sport is having most number of medals so far? (Top 5)"
   ]
  },
  {
   "cell_type": "code",
   "execution_count": 8,
   "metadata": {},
   "outputs": [
    {
     "data": {
      "text/html": [
       "<div>\n",
       "<style scoped>\n",
       "    .dataframe tbody tr th:only-of-type {\n",
       "        vertical-align: middle;\n",
       "    }\n",
       "\n",
       "    .dataframe tbody tr th {\n",
       "        vertical-align: top;\n",
       "    }\n",
       "\n",
       "    .dataframe thead th {\n",
       "        text-align: right;\n",
       "    }\n",
       "</style>\n",
       "<table border=\"1\" class=\"dataframe\">\n",
       "  <thead>\n",
       "    <tr style=\"text-align: right;\">\n",
       "      <th></th>\n",
       "      <th>Year</th>\n",
       "      <th>City</th>\n",
       "      <th>Discipline</th>\n",
       "      <th>Athlete</th>\n",
       "      <th>Country</th>\n",
       "      <th>Gender</th>\n",
       "      <th>Event</th>\n",
       "      <th>Medal</th>\n",
       "    </tr>\n",
       "    <tr>\n",
       "      <th>Sport</th>\n",
       "      <th></th>\n",
       "      <th></th>\n",
       "      <th></th>\n",
       "      <th></th>\n",
       "      <th></th>\n",
       "      <th></th>\n",
       "      <th></th>\n",
       "      <th></th>\n",
       "    </tr>\n",
       "  </thead>\n",
       "  <tbody>\n",
       "    <tr>\n",
       "      <th>Aquatics</th>\n",
       "      <td>4170</td>\n",
       "      <td>4170</td>\n",
       "      <td>4170</td>\n",
       "      <td>4170</td>\n",
       "      <td>4170</td>\n",
       "      <td>4170</td>\n",
       "      <td>4170</td>\n",
       "      <td>4170</td>\n",
       "    </tr>\n",
       "    <tr>\n",
       "      <th>Archery</th>\n",
       "      <td>329</td>\n",
       "      <td>329</td>\n",
       "      <td>329</td>\n",
       "      <td>329</td>\n",
       "      <td>329</td>\n",
       "      <td>329</td>\n",
       "      <td>329</td>\n",
       "      <td>329</td>\n",
       "    </tr>\n",
       "    <tr>\n",
       "      <th>Athletics</th>\n",
       "      <td>3638</td>\n",
       "      <td>3638</td>\n",
       "      <td>3638</td>\n",
       "      <td>3638</td>\n",
       "      <td>3637</td>\n",
       "      <td>3638</td>\n",
       "      <td>3638</td>\n",
       "      <td>3638</td>\n",
       "    </tr>\n",
       "    <tr>\n",
       "      <th>Badminton</th>\n",
       "      <td>144</td>\n",
       "      <td>144</td>\n",
       "      <td>144</td>\n",
       "      <td>144</td>\n",
       "      <td>144</td>\n",
       "      <td>144</td>\n",
       "      <td>144</td>\n",
       "      <td>144</td>\n",
       "    </tr>\n",
       "    <tr>\n",
       "      <th>Baseball</th>\n",
       "      <td>335</td>\n",
       "      <td>335</td>\n",
       "      <td>335</td>\n",
       "      <td>335</td>\n",
       "      <td>335</td>\n",
       "      <td>335</td>\n",
       "      <td>335</td>\n",
       "      <td>335</td>\n",
       "    </tr>\n",
       "    <tr>\n",
       "      <th>Basketball</th>\n",
       "      <td>1012</td>\n",
       "      <td>1012</td>\n",
       "      <td>1012</td>\n",
       "      <td>1012</td>\n",
       "      <td>1012</td>\n",
       "      <td>1012</td>\n",
       "      <td>1012</td>\n",
       "      <td>1012</td>\n",
       "    </tr>\n",
       "    <tr>\n",
       "      <th>Basque Pelota</th>\n",
       "      <td>4</td>\n",
       "      <td>4</td>\n",
       "      <td>4</td>\n",
       "      <td>4</td>\n",
       "      <td>4</td>\n",
       "      <td>4</td>\n",
       "      <td>4</td>\n",
       "      <td>4</td>\n",
       "    </tr>\n",
       "    <tr>\n",
       "      <th>Boxing</th>\n",
       "      <td>894</td>\n",
       "      <td>894</td>\n",
       "      <td>894</td>\n",
       "      <td>894</td>\n",
       "      <td>894</td>\n",
       "      <td>894</td>\n",
       "      <td>894</td>\n",
       "      <td>894</td>\n",
       "    </tr>\n",
       "    <tr>\n",
       "      <th>Canoe</th>\n",
       "      <td>81</td>\n",
       "      <td>81</td>\n",
       "      <td>81</td>\n",
       "      <td>81</td>\n",
       "      <td>81</td>\n",
       "      <td>81</td>\n",
       "      <td>81</td>\n",
       "      <td>81</td>\n",
       "    </tr>\n",
       "    <tr>\n",
       "      <th>Canoe / Kayak</th>\n",
       "      <td>1002</td>\n",
       "      <td>1002</td>\n",
       "      <td>1002</td>\n",
       "      <td>1002</td>\n",
       "      <td>1002</td>\n",
       "      <td>1002</td>\n",
       "      <td>1002</td>\n",
       "      <td>1002</td>\n",
       "    </tr>\n",
       "    <tr>\n",
       "      <th>Cricket</th>\n",
       "      <td>24</td>\n",
       "      <td>24</td>\n",
       "      <td>24</td>\n",
       "      <td>24</td>\n",
       "      <td>24</td>\n",
       "      <td>24</td>\n",
       "      <td>24</td>\n",
       "      <td>24</td>\n",
       "    </tr>\n",
       "    <tr>\n",
       "      <th>Croquet</th>\n",
       "      <td>8</td>\n",
       "      <td>8</td>\n",
       "      <td>8</td>\n",
       "      <td>8</td>\n",
       "      <td>8</td>\n",
       "      <td>8</td>\n",
       "      <td>8</td>\n",
       "      <td>8</td>\n",
       "    </tr>\n",
       "    <tr>\n",
       "      <th>Cycling</th>\n",
       "      <td>1105</td>\n",
       "      <td>1105</td>\n",
       "      <td>1105</td>\n",
       "      <td>1105</td>\n",
       "      <td>1105</td>\n",
       "      <td>1105</td>\n",
       "      <td>1105</td>\n",
       "      <td>1105</td>\n",
       "    </tr>\n",
       "    <tr>\n",
       "      <th>Equestrian</th>\n",
       "      <td>939</td>\n",
       "      <td>939</td>\n",
       "      <td>939</td>\n",
       "      <td>939</td>\n",
       "      <td>939</td>\n",
       "      <td>939</td>\n",
       "      <td>939</td>\n",
       "      <td>939</td>\n",
       "    </tr>\n",
       "    <tr>\n",
       "      <th>Fencing</th>\n",
       "      <td>1613</td>\n",
       "      <td>1613</td>\n",
       "      <td>1613</td>\n",
       "      <td>1613</td>\n",
       "      <td>1613</td>\n",
       "      <td>1613</td>\n",
       "      <td>1613</td>\n",
       "      <td>1613</td>\n",
       "    </tr>\n",
       "    <tr>\n",
       "      <th>Football</th>\n",
       "      <td>1497</td>\n",
       "      <td>1497</td>\n",
       "      <td>1497</td>\n",
       "      <td>1497</td>\n",
       "      <td>1497</td>\n",
       "      <td>1497</td>\n",
       "      <td>1497</td>\n",
       "      <td>1497</td>\n",
       "    </tr>\n",
       "    <tr>\n",
       "      <th>Golf</th>\n",
       "      <td>30</td>\n",
       "      <td>30</td>\n",
       "      <td>30</td>\n",
       "      <td>30</td>\n",
       "      <td>30</td>\n",
       "      <td>30</td>\n",
       "      <td>30</td>\n",
       "      <td>30</td>\n",
       "    </tr>\n",
       "    <tr>\n",
       "      <th>Gymnastics</th>\n",
       "      <td>2307</td>\n",
       "      <td>2307</td>\n",
       "      <td>2307</td>\n",
       "      <td>2307</td>\n",
       "      <td>2307</td>\n",
       "      <td>2307</td>\n",
       "      <td>2307</td>\n",
       "      <td>2307</td>\n",
       "    </tr>\n",
       "    <tr>\n",
       "      <th>Handball</th>\n",
       "      <td>973</td>\n",
       "      <td>973</td>\n",
       "      <td>973</td>\n",
       "      <td>973</td>\n",
       "      <td>973</td>\n",
       "      <td>973</td>\n",
       "      <td>973</td>\n",
       "      <td>973</td>\n",
       "    </tr>\n",
       "    <tr>\n",
       "      <th>Hockey</th>\n",
       "      <td>1422</td>\n",
       "      <td>1422</td>\n",
       "      <td>1422</td>\n",
       "      <td>1422</td>\n",
       "      <td>1422</td>\n",
       "      <td>1422</td>\n",
       "      <td>1422</td>\n",
       "      <td>1422</td>\n",
       "    </tr>\n",
       "    <tr>\n",
       "      <th>Ice Hockey</th>\n",
       "      <td>27</td>\n",
       "      <td>27</td>\n",
       "      <td>27</td>\n",
       "      <td>27</td>\n",
       "      <td>27</td>\n",
       "      <td>27</td>\n",
       "      <td>27</td>\n",
       "      <td>27</td>\n",
       "    </tr>\n",
       "    <tr>\n",
       "      <th>Jeu de paume</th>\n",
       "      <td>3</td>\n",
       "      <td>3</td>\n",
       "      <td>3</td>\n",
       "      <td>3</td>\n",
       "      <td>3</td>\n",
       "      <td>3</td>\n",
       "      <td>3</td>\n",
       "      <td>3</td>\n",
       "    </tr>\n",
       "    <tr>\n",
       "      <th>Judo</th>\n",
       "      <td>491</td>\n",
       "      <td>491</td>\n",
       "      <td>491</td>\n",
       "      <td>491</td>\n",
       "      <td>491</td>\n",
       "      <td>491</td>\n",
       "      <td>491</td>\n",
       "      <td>491</td>\n",
       "    </tr>\n",
       "    <tr>\n",
       "      <th>Lacrosse</th>\n",
       "      <td>59</td>\n",
       "      <td>59</td>\n",
       "      <td>59</td>\n",
       "      <td>59</td>\n",
       "      <td>59</td>\n",
       "      <td>59</td>\n",
       "      <td>59</td>\n",
       "      <td>59</td>\n",
       "    </tr>\n",
       "    <tr>\n",
       "      <th>Modern Pentathlon</th>\n",
       "      <td>180</td>\n",
       "      <td>180</td>\n",
       "      <td>180</td>\n",
       "      <td>180</td>\n",
       "      <td>180</td>\n",
       "      <td>180</td>\n",
       "      <td>180</td>\n",
       "      <td>180</td>\n",
       "    </tr>\n",
       "    <tr>\n",
       "      <th>Polo</th>\n",
       "      <td>66</td>\n",
       "      <td>66</td>\n",
       "      <td>66</td>\n",
       "      <td>66</td>\n",
       "      <td>66</td>\n",
       "      <td>66</td>\n",
       "      <td>66</td>\n",
       "      <td>66</td>\n",
       "    </tr>\n",
       "    <tr>\n",
       "      <th>Rackets</th>\n",
       "      <td>10</td>\n",
       "      <td>10</td>\n",
       "      <td>10</td>\n",
       "      <td>10</td>\n",
       "      <td>10</td>\n",
       "      <td>10</td>\n",
       "      <td>10</td>\n",
       "      <td>10</td>\n",
       "    </tr>\n",
       "    <tr>\n",
       "      <th>Roque</th>\n",
       "      <td>3</td>\n",
       "      <td>3</td>\n",
       "      <td>3</td>\n",
       "      <td>3</td>\n",
       "      <td>3</td>\n",
       "      <td>3</td>\n",
       "      <td>3</td>\n",
       "      <td>3</td>\n",
       "    </tr>\n",
       "    <tr>\n",
       "      <th>Rowing</th>\n",
       "      <td>2667</td>\n",
       "      <td>2667</td>\n",
       "      <td>2667</td>\n",
       "      <td>2667</td>\n",
       "      <td>2667</td>\n",
       "      <td>2667</td>\n",
       "      <td>2667</td>\n",
       "      <td>2667</td>\n",
       "    </tr>\n",
       "    <tr>\n",
       "      <th>Rugby</th>\n",
       "      <td>192</td>\n",
       "      <td>192</td>\n",
       "      <td>192</td>\n",
       "      <td>192</td>\n",
       "      <td>192</td>\n",
       "      <td>192</td>\n",
       "      <td>192</td>\n",
       "      <td>192</td>\n",
       "    </tr>\n",
       "    <tr>\n",
       "      <th>Sailing</th>\n",
       "      <td>1109</td>\n",
       "      <td>1109</td>\n",
       "      <td>1109</td>\n",
       "      <td>1109</td>\n",
       "      <td>1109</td>\n",
       "      <td>1109</td>\n",
       "      <td>1109</td>\n",
       "      <td>1109</td>\n",
       "    </tr>\n",
       "    <tr>\n",
       "      <th>Shooting</th>\n",
       "      <td>1150</td>\n",
       "      <td>1150</td>\n",
       "      <td>1150</td>\n",
       "      <td>1150</td>\n",
       "      <td>1150</td>\n",
       "      <td>1150</td>\n",
       "      <td>1150</td>\n",
       "      <td>1150</td>\n",
       "    </tr>\n",
       "    <tr>\n",
       "      <th>Skating</th>\n",
       "      <td>27</td>\n",
       "      <td>27</td>\n",
       "      <td>27</td>\n",
       "      <td>27</td>\n",
       "      <td>27</td>\n",
       "      <td>27</td>\n",
       "      <td>27</td>\n",
       "      <td>27</td>\n",
       "    </tr>\n",
       "    <tr>\n",
       "      <th>Softball</th>\n",
       "      <td>180</td>\n",
       "      <td>180</td>\n",
       "      <td>180</td>\n",
       "      <td>180</td>\n",
       "      <td>180</td>\n",
       "      <td>180</td>\n",
       "      <td>180</td>\n",
       "      <td>180</td>\n",
       "    </tr>\n",
       "    <tr>\n",
       "      <th>Table Tennis</th>\n",
       "      <td>144</td>\n",
       "      <td>144</td>\n",
       "      <td>144</td>\n",
       "      <td>144</td>\n",
       "      <td>144</td>\n",
       "      <td>144</td>\n",
       "      <td>144</td>\n",
       "      <td>144</td>\n",
       "    </tr>\n",
       "    <tr>\n",
       "      <th>Taekwondo</th>\n",
       "      <td>112</td>\n",
       "      <td>112</td>\n",
       "      <td>112</td>\n",
       "      <td>112</td>\n",
       "      <td>112</td>\n",
       "      <td>112</td>\n",
       "      <td>112</td>\n",
       "      <td>112</td>\n",
       "    </tr>\n",
       "    <tr>\n",
       "      <th>Tennis</th>\n",
       "      <td>296</td>\n",
       "      <td>296</td>\n",
       "      <td>296</td>\n",
       "      <td>296</td>\n",
       "      <td>296</td>\n",
       "      <td>296</td>\n",
       "      <td>296</td>\n",
       "      <td>296</td>\n",
       "    </tr>\n",
       "    <tr>\n",
       "      <th>Triathlon</th>\n",
       "      <td>24</td>\n",
       "      <td>24</td>\n",
       "      <td>24</td>\n",
       "      <td>24</td>\n",
       "      <td>24</td>\n",
       "      <td>24</td>\n",
       "      <td>24</td>\n",
       "      <td>24</td>\n",
       "    </tr>\n",
       "    <tr>\n",
       "      <th>Tug of War</th>\n",
       "      <td>94</td>\n",
       "      <td>94</td>\n",
       "      <td>94</td>\n",
       "      <td>94</td>\n",
       "      <td>94</td>\n",
       "      <td>94</td>\n",
       "      <td>94</td>\n",
       "      <td>94</td>\n",
       "    </tr>\n",
       "    <tr>\n",
       "      <th>Volleyball</th>\n",
       "      <td>994</td>\n",
       "      <td>994</td>\n",
       "      <td>994</td>\n",
       "      <td>994</td>\n",
       "      <td>994</td>\n",
       "      <td>994</td>\n",
       "      <td>994</td>\n",
       "      <td>994</td>\n",
       "    </tr>\n",
       "    <tr>\n",
       "      <th>Water Motorsports</th>\n",
       "      <td>5</td>\n",
       "      <td>5</td>\n",
       "      <td>5</td>\n",
       "      <td>5</td>\n",
       "      <td>5</td>\n",
       "      <td>5</td>\n",
       "      <td>5</td>\n",
       "      <td>5</td>\n",
       "    </tr>\n",
       "    <tr>\n",
       "      <th>Weightlifting</th>\n",
       "      <td>593</td>\n",
       "      <td>593</td>\n",
       "      <td>593</td>\n",
       "      <td>593</td>\n",
       "      <td>591</td>\n",
       "      <td>593</td>\n",
       "      <td>593</td>\n",
       "      <td>593</td>\n",
       "    </tr>\n",
       "    <tr>\n",
       "      <th>Wrestling</th>\n",
       "      <td>1212</td>\n",
       "      <td>1212</td>\n",
       "      <td>1212</td>\n",
       "      <td>1212</td>\n",
       "      <td>1211</td>\n",
       "      <td>1212</td>\n",
       "      <td>1212</td>\n",
       "      <td>1212</td>\n",
       "    </tr>\n",
       "  </tbody>\n",
       "</table>\n",
       "</div>"
      ],
      "text/plain": [
       "                   Year  City  Discipline  Athlete  Country  Gender  Event  \\\n",
       "Sport                                                                        \n",
       "Aquatics           4170  4170        4170     4170     4170    4170   4170   \n",
       "Archery             329   329         329      329      329     329    329   \n",
       "Athletics          3638  3638        3638     3638     3637    3638   3638   \n",
       "Badminton           144   144         144      144      144     144    144   \n",
       "Baseball            335   335         335      335      335     335    335   \n",
       "Basketball         1012  1012        1012     1012     1012    1012   1012   \n",
       "Basque Pelota         4     4           4        4        4       4      4   \n",
       "Boxing              894   894         894      894      894     894    894   \n",
       "Canoe                81    81          81       81       81      81     81   \n",
       "Canoe / Kayak      1002  1002        1002     1002     1002    1002   1002   \n",
       "Cricket              24    24          24       24       24      24     24   \n",
       "Croquet               8     8           8        8        8       8      8   \n",
       "Cycling            1105  1105        1105     1105     1105    1105   1105   \n",
       "Equestrian          939   939         939      939      939     939    939   \n",
       "Fencing            1613  1613        1613     1613     1613    1613   1613   \n",
       "Football           1497  1497        1497     1497     1497    1497   1497   \n",
       "Golf                 30    30          30       30       30      30     30   \n",
       "Gymnastics         2307  2307        2307     2307     2307    2307   2307   \n",
       "Handball            973   973         973      973      973     973    973   \n",
       "Hockey             1422  1422        1422     1422     1422    1422   1422   \n",
       "Ice Hockey           27    27          27       27       27      27     27   \n",
       "Jeu de paume          3     3           3        3        3       3      3   \n",
       "Judo                491   491         491      491      491     491    491   \n",
       "Lacrosse             59    59          59       59       59      59     59   \n",
       "Modern Pentathlon   180   180         180      180      180     180    180   \n",
       "Polo                 66    66          66       66       66      66     66   \n",
       "Rackets              10    10          10       10       10      10     10   \n",
       "Roque                 3     3           3        3        3       3      3   \n",
       "Rowing             2667  2667        2667     2667     2667    2667   2667   \n",
       "Rugby               192   192         192      192      192     192    192   \n",
       "Sailing            1109  1109        1109     1109     1109    1109   1109   \n",
       "Shooting           1150  1150        1150     1150     1150    1150   1150   \n",
       "Skating              27    27          27       27       27      27     27   \n",
       "Softball            180   180         180      180      180     180    180   \n",
       "Table Tennis        144   144         144      144      144     144    144   \n",
       "Taekwondo           112   112         112      112      112     112    112   \n",
       "Tennis              296   296         296      296      296     296    296   \n",
       "Triathlon            24    24          24       24       24      24     24   \n",
       "Tug of War           94    94          94       94       94      94     94   \n",
       "Volleyball          994   994         994      994      994     994    994   \n",
       "Water Motorsports     5     5           5        5        5       5      5   \n",
       "Weightlifting       593   593         593      593      591     593    593   \n",
       "Wrestling          1212  1212        1212     1212     1211    1212   1212   \n",
       "\n",
       "                   Medal  \n",
       "Sport                     \n",
       "Aquatics            4170  \n",
       "Archery              329  \n",
       "Athletics           3638  \n",
       "Badminton            144  \n",
       "Baseball             335  \n",
       "Basketball          1012  \n",
       "Basque Pelota          4  \n",
       "Boxing               894  \n",
       "Canoe                 81  \n",
       "Canoe / Kayak       1002  \n",
       "Cricket               24  \n",
       "Croquet                8  \n",
       "Cycling             1105  \n",
       "Equestrian           939  \n",
       "Fencing             1613  \n",
       "Football            1497  \n",
       "Golf                  30  \n",
       "Gymnastics          2307  \n",
       "Handball             973  \n",
       "Hockey              1422  \n",
       "Ice Hockey            27  \n",
       "Jeu de paume           3  \n",
       "Judo                 491  \n",
       "Lacrosse              59  \n",
       "Modern Pentathlon    180  \n",
       "Polo                  66  \n",
       "Rackets               10  \n",
       "Roque                  3  \n",
       "Rowing              2667  \n",
       "Rugby                192  \n",
       "Sailing             1109  \n",
       "Shooting            1150  \n",
       "Skating               27  \n",
       "Softball             180  \n",
       "Table Tennis         144  \n",
       "Taekwondo            112  \n",
       "Tennis               296  \n",
       "Triathlon             24  \n",
       "Tug of War            94  \n",
       "Volleyball           994  \n",
       "Water Motorsports      5  \n",
       "Weightlifting        593  \n",
       "Wrestling           1212  "
      ]
     },
     "execution_count": 8,
     "metadata": {},
     "output_type": "execute_result"
    }
   ],
   "source": [
    "df.groupby('Sport').count()"
   ]
  },
  {
   "cell_type": "code",
   "execution_count": 9,
   "metadata": {},
   "outputs": [
    {
     "data": {
      "text/plain": [
       "Sport\n",
       "Aquatics             4170\n",
       "Archery               329\n",
       "Athletics            3638\n",
       "Badminton             144\n",
       "Baseball              335\n",
       "Basketball           1012\n",
       "Basque Pelota           4\n",
       "Boxing                894\n",
       "Canoe                  81\n",
       "Canoe / Kayak        1002\n",
       "Cricket                24\n",
       "Croquet                 8\n",
       "Cycling              1105\n",
       "Equestrian            939\n",
       "Fencing              1613\n",
       "Football             1497\n",
       "Golf                   30\n",
       "Gymnastics           2307\n",
       "Handball              973\n",
       "Hockey               1422\n",
       "Ice Hockey             27\n",
       "Jeu de paume            3\n",
       "Judo                  491\n",
       "Lacrosse               59\n",
       "Modern Pentathlon     180\n",
       "Polo                   66\n",
       "Rackets                10\n",
       "Roque                   3\n",
       "Rowing               2667\n",
       "Rugby                 192\n",
       "Sailing              1109\n",
       "Shooting             1150\n",
       "Skating                27\n",
       "Softball              180\n",
       "Table Tennis          144\n",
       "Taekwondo             112\n",
       "Tennis                296\n",
       "Triathlon              24\n",
       "Tug of War             94\n",
       "Volleyball            994\n",
       "Water Motorsports       5\n",
       "Weightlifting         593\n",
       "Wrestling            1212\n",
       "Name: Medal, dtype: int64"
      ]
     },
     "execution_count": 9,
     "metadata": {},
     "output_type": "execute_result"
    }
   ],
   "source": [
    "df.groupby('Sport').count()['Medal']"
   ]
  },
  {
   "cell_type": "code",
   "execution_count": 10,
   "metadata": {},
   "outputs": [
    {
     "data": {
      "text/plain": [
       "Text(0.5, 1.0, 'Top 5 Sports with Most Number of Medals')"
      ]
     },
     "execution_count": 10,
     "metadata": {},
     "output_type": "execute_result"
    },
    {
     "data": {
      "image/png": "[encoded data removed]",
      "text/plain": [
       "<Figure size 576x360 with 1 Axes>"
      ]
     },
     "metadata": {
      "needs_background": "light"
     },
     "output_type": "display_data"
    }
   ],
   "source": [
    "df.groupby('Sport').count()['Medal'].sort_values(ascending=False).head().plot.bar(figsize=(8,5))\n",
    "plt.title('Top 5 Sports with Most Number of Medals')"
   ]
  },
  {
   "cell_type": "code",
   "execution_count": 11,
   "metadata": {},
   "outputs": [
    {
     "data": {
      "text/plain": [
       "4170"
      ]
     },
     "execution_count": 11,
     "metadata": {},
     "output_type": "execute_result"
    }
   ],
   "source": [
    "len(df[df['Sport']=='Aquatics'])"
   ]
  },
  {
   "cell_type": "code",
   "execution_count": 12,
   "metadata": {},
   "outputs": [
    {
     "data": {
      "text/plain": [
       "3638"
      ]
     },
     "execution_count": 12,
     "metadata": {},
     "output_type": "execute_result"
    }
   ],
   "source": [
    "len(df[df['Sport']=='Athletics'])"
   ]
  },
  {
   "cell_type": "code",
   "execution_count": 13,
   "metadata": {},
   "outputs": [
    {
     "data": {
      "text/plain": [
       "2667"
      ]
     },
     "execution_count": 13,
     "metadata": {},
     "output_type": "execute_result"
    }
   ],
   "source": [
    "len(df[df['Sport']=='Rowing'])"
   ]
  },
  {
   "cell_type": "code",
   "execution_count": 14,
   "metadata": {},
   "outputs": [
    {
     "data": {
      "text/plain": [
       "2307"
      ]
     },
     "execution_count": 14,
     "metadata": {},
     "output_type": "execute_result"
    }
   ],
   "source": [
    "len(df[df['Sport']=='Gymnastics'])"
   ]
  },
  {
   "cell_type": "code",
   "execution_count": 15,
   "metadata": {},
   "outputs": [
    {
     "data": {
      "text/plain": [
       "1613"
      ]
     },
     "execution_count": 15,
     "metadata": {},
     "output_type": "execute_result"
    }
   ],
   "source": [
    "len(df[df['Sport']=='Fencing'])"
   ]
  },
  {
   "cell_type": "markdown",
   "metadata": {},
   "source": [
    "### 4. Which player has won most number of medals? (Top 5)"
   ]
  },
  {
   "cell_type": "code",
   "execution_count": 16,
   "metadata": {},
   "outputs": [
    {
     "data": {
      "text/plain": [
       "Text(0.5, 1.0, 'Top 5 Athlete with Most Number of Medals')"
      ]
     },
     "execution_count": 16,
     "metadata": {},
     "output_type": "execute_result"
    },
    {
     "data": {
      "image/png": "[encoded data removed]",
      "text/plain": [
       "<Figure size 576x360 with 1 Axes>"
      ]
     },
     "metadata": {
      "needs_background": "light"
     },
     "output_type": "display_data"
    }
   ],
   "source": [
    "df.groupby('Athlete').count()['Medal'].sort_values(ascending=False).head().plot.bar(figsize=(8,5))\n",
    "plt.title('Top 5 Athlete with Most Number of Medals')"
   ]
  },
  {
   "cell_type": "code",
   "execution_count": 17,
   "metadata": {},
   "outputs": [
    {
     "data": {
      "text/plain": [
       "22"
      ]
     },
     "execution_count": 17,
     "metadata": {},
     "output_type": "execute_result"
    }
   ],
   "source": [
    "len(df[df['Athlete']=='PHELPS, Michael'])"
   ]
  },
  {
   "cell_type": "code",
   "execution_count": 18,
   "metadata": {},
   "outputs": [
    {
     "data": {
      "text/plain": [
       "18"
      ]
     },
     "execution_count": 18,
     "metadata": {},
     "output_type": "execute_result"
    }
   ],
   "source": [
    "len(df[df['Athlete']=='LATYNINA, Larisa'])"
   ]
  },
  {
   "cell_type": "code",
   "execution_count": 19,
   "metadata": {},
   "outputs": [
    {
     "data": {
      "text/plain": [
       "15"
      ]
     },
     "execution_count": 19,
     "metadata": {},
     "output_type": "execute_result"
    }
   ],
   "source": [
    "len(df[df['Athlete']=='ANDRIANOV, Nikolay'])"
   ]
  },
  {
   "cell_type": "code",
   "execution_count": 20,
   "metadata": {},
   "outputs": [
    {
     "data": {
      "text/plain": [
       "13"
      ]
     },
     "execution_count": 20,
     "metadata": {},
     "output_type": "execute_result"
    }
   ],
   "source": [
    "len(df[df['Athlete']=='MANGIAROTTI, Edoardo'])"
   ]
  },
  {
   "cell_type": "code",
   "execution_count": 21,
   "metadata": {},
   "outputs": [
    {
     "data": {
      "text/plain": [
       "13"
      ]
     },
     "execution_count": 21,
     "metadata": {},
     "output_type": "execute_result"
    }
   ],
   "source": [
    "len(df[df['Athlete']=='ONO, Takashi'])"
   ]
  },
  {
   "cell_type": "markdown",
   "metadata": {},
   "source": [
    "### 5. Which player has won most number Gold Medals of medals? (Top 5)"
   ]
  },
  {
   "cell_type": "code",
   "execution_count": 23,
   "metadata": {},
   "outputs": [
    {
     "data": {
      "text/plain": [
       "Text(0.5, 1.0, 'Top 5 Athlete with Most Number of Gold Medals')"
      ]
     },
     "execution_count": 23,
     "metadata": {},
     "output_type": "execute_result"
    },
    {
     "data": {
      "image/png": "[encoded data removed]",
      "text/plain": [
       "<Figure size 576x360 with 1 Axes>"
      ]
     },
     "metadata": {
      "needs_background": "light"
     },
     "output_type": "display_data"
    }
   ],
   "source": [
    "df_gold=df[df['Medal']=='Gold']\n",
    "\n",
    "data=[]\n",
    "\n",
    "for player in df_gold['Athlete'].unique():\n",
    "    data.append([player , len(df_gold[df_gold['Athlete']==player])])\n",
    "\n",
    "pd.DataFrame(data,columns=['Athlete','Gold']).sort_values(by='Gold', ascending=False).head().plot(x='Athlete',y='Gold',kind='bar',figsize=(8,5))\n",
    "plt.title('Top 5 Athlete with Most Number of Gold Medals')"
   ]
  },
  {
   "cell_type": "markdown",
   "metadata": {},
   "source": [
    "### 6. In which year India won first Gold Medal in Summer Olympics?"
   ]
  },
  {
   "cell_type": "code",
   "execution_count": 24,
   "metadata": {},
   "outputs": [
    {
     "data": {
      "text/plain": [
       "array(['HUN', 'AUT', 'GRE', 'USA', 'GER', 'GBR', 'FRA', 'AUS', 'DEN',\n",
       "       'SUI', 'ZZX', 'NED', 'BEL', 'IND', 'CAN', 'BOH', 'SWE', 'NOR',\n",
       "       'ESP', 'ITA', 'CUB', 'ANZ', 'RSA', 'FIN', 'RU1', 'EST', 'TCH',\n",
       "       'NZL', 'BRA', 'JPN', 'LUX', 'ARG', 'POL', 'POR', 'URU', 'YUG',\n",
       "       'ROU', 'HAI', 'EGY', 'PHI', 'IRL', 'CHI', 'LAT', 'MEX', 'TUR',\n",
       "       'PAN', 'JAM', 'SRI', 'KOR', 'PUR', 'PER', 'IRI', 'TRI', 'URS',\n",
       "       'VEN', 'BUL', 'LIB', 'EUA', 'ISL', 'PAK', 'BAH', 'BWI', 'TPE',\n",
       "       'ETH', 'MAR', 'GHA', 'IRQ', 'SIN', 'TUN', 'KEN', 'NGR', 'GDR',\n",
       "       'FRG', 'UGA', 'CMR', 'MGL', 'PRK', 'COL', 'NIG', 'THA', 'BER',\n",
       "       'TAN', 'GUY', 'ZIM', 'CHN', 'CIV', 'ZAM', 'DOM', 'ALG', 'SYR',\n",
       "       'SUR', 'CRC', 'INA', 'SEN', 'DJI', 'AHO', 'ISV', 'EUN', 'NAM',\n",
       "       'QAT', 'LTU', 'MAS', 'CRO', 'ISR', 'SLO', 'IOP', 'RUS', 'UKR',\n",
       "       'ECU', 'BDI', 'MOZ', 'CZE', 'BLR', 'TGA', 'KAZ', 'UZB', 'SVK',\n",
       "       'MDA', 'GEO', 'HKG', 'ARM', 'AZE', 'BAR', 'KSA', 'KGZ', 'KUW',\n",
       "       'VIE', 'MKD', 'SCG', 'ERI', 'PAR', 'UAE', 'SRB', 'SUD', 'MRI',\n",
       "       'TOG', 'TJK', 'AFG', nan, 'BRN', 'GUA', 'GRN', 'TTO', 'BOT', 'MNE',\n",
       "       'CYP', 'SGP', 'GAB'], dtype=object)"
      ]
     },
     "execution_count": 24,
     "metadata": {},
     "output_type": "execute_result"
    }
   ],
   "source": [
    "df['Country'].unique()"
   ]
  },
  {
   "cell_type": "code",
   "execution_count": 25,
   "metadata": {},
   "outputs": [
    {
     "name": "stdout",
     "output_type": "stream",
     "text": [
      "The year India won its first Gold Medal in Summer Olympics is  1900\n"
     ]
    }
   ],
   "source": [
    "year_asc=df.sort_values(['Year'],ascending=True)\n",
    "\n",
    "india_first=year_asc[year_asc['Country']=='IND'].iloc[0]\n",
    "\n",
    "print(\"The year India won its first Gold Medal in Summer Olympics is \",india_first['Year'])"
   ]
  },
  {
   "cell_type": "code",
   "execution_count": 26,
   "metadata": {},
   "outputs": [
    {
     "data": {
      "text/plain": [
       "Year                       1900\n",
       "City                      Paris\n",
       "Sport                 Athletics\n",
       "Discipline            Athletics\n",
       "Athlete       PRITCHARD, Norman\n",
       "Country                     IND\n",
       "Gender                      Men\n",
       "Event                      200M\n",
       "Medal                    Silver\n",
       "Name: 241, dtype: object"
      ]
     },
     "execution_count": 26,
     "metadata": {},
     "output_type": "execute_result"
    }
   ],
   "source": [
    "india_first"
   ]
  },
  {
   "cell_type": "markdown",
   "metadata": {},
   "source": [
    "### 7. Which event is most popular in terms on number of players? (Top 5)"
   ]
  },
  {
   "cell_type": "code",
   "execution_count": 27,
   "metadata": {},
   "outputs": [
    {
     "data": {
      "text/plain": [
       "Text(0.5, 1.0, 'Top 5 Event with Most Number of Athlete')"
      ]
     },
     "execution_count": 27,
     "metadata": {},
     "output_type": "execute_result"
    },
    {
     "data": {
      "image/png": "[encoded data removed]",
      "text/plain": [
       "<Figure size 576x360 with 1 Axes>"
      ]
     },
     "metadata": {
      "needs_background": "light"
     },
     "output_type": "display_data"
    }
   ],
   "source": [
    "df.groupby('Event').count()['Athlete'].sort_values(ascending=False).head().plot.bar(figsize=(8,5))\n",
    "plt.title('Top 5 Event with Most Number of Athlete')"
   ]
  },
  {
   "cell_type": "code",
   "execution_count": 28,
   "metadata": {},
   "outputs": [
    {
     "data": {
      "text/plain": [
       "1497"
      ]
     },
     "execution_count": 28,
     "metadata": {},
     "output_type": "execute_result"
    }
   ],
   "source": [
    "len(df[df['Event']=='Football'])"
   ]
  },
  {
   "cell_type": "code",
   "execution_count": 29,
   "metadata": {},
   "outputs": [
    {
     "data": {
      "text/plain": [
       "1422"
      ]
     },
     "execution_count": 29,
     "metadata": {},
     "output_type": "execute_result"
    }
   ],
   "source": [
    "len(df[df['Event']=='Hockey'])"
   ]
  },
  {
   "cell_type": "code",
   "execution_count": 30,
   "metadata": {},
   "outputs": [
    {
     "data": {
      "text/plain": [
       "1147"
      ]
     },
     "execution_count": 30,
     "metadata": {},
     "output_type": "execute_result"
    }
   ],
   "source": [
    "len(df[df['Event']=='Team Competition'])"
   ]
  },
  {
   "cell_type": "code",
   "execution_count": 31,
   "metadata": {},
   "outputs": [
    {
     "data": {
      "text/plain": [
       "1012"
      ]
     },
     "execution_count": 31,
     "metadata": {},
     "output_type": "execute_result"
    }
   ],
   "source": [
    "len(df[df['Event']=='Basketball'])"
   ]
  },
  {
   "cell_type": "code",
   "execution_count": 32,
   "metadata": {},
   "outputs": [
    {
     "data": {
      "text/plain": [
       "973"
      ]
     },
     "execution_count": 32,
     "metadata": {},
     "output_type": "execute_result"
    }
   ],
   "source": [
    "len(df[df['Event']=='Handball'])"
   ]
  },
  {
   "cell_type": "markdown",
   "metadata": {},
   "source": [
    "### 8. Which sport is having most female Gold Medalists? (Top 5)"
   ]
  },
  {
   "cell_type": "code",
   "execution_count": 33,
   "metadata": {},
   "outputs": [
    {
     "data": {
      "text/plain": [
       "array(['Men', 'Women'], dtype=object)"
      ]
     },
     "execution_count": 33,
     "metadata": {},
     "output_type": "execute_result"
    }
   ],
   "source": [
    "df['Gender'].unique()"
   ]
  },
  {
   "cell_type": "code",
   "execution_count": 34,
   "metadata": {},
   "outputs": [],
   "source": [
    "df_gold=df[df['Medal']=='Gold']\n",
    "df_gold_female=df_gold[df_gold['Gender']=='Women']"
   ]
  },
  {
   "cell_type": "code",
   "execution_count": 35,
   "metadata": {},
   "outputs": [
    {
     "data": {
      "text/html": [
       "<div>\n",
       "<style scoped>\n",
       "    .dataframe tbody tr th:only-of-type {\n",
       "        vertical-align: middle;\n",
       "    }\n",
       "\n",
       "    .dataframe tbody tr th {\n",
       "        vertical-align: top;\n",
       "    }\n",
       "\n",
       "    .dataframe thead th {\n",
       "        text-align: right;\n",
       "    }\n",
       "</style>\n",
       "<table border=\"1\" class=\"dataframe\">\n",
       "  <thead>\n",
       "    <tr style=\"text-align: right;\">\n",
       "      <th></th>\n",
       "      <th>Year</th>\n",
       "      <th>City</th>\n",
       "      <th>Sport</th>\n",
       "      <th>Discipline</th>\n",
       "      <th>Athlete</th>\n",
       "      <th>Country</th>\n",
       "      <th>Gender</th>\n",
       "      <th>Event</th>\n",
       "      <th>Medal</th>\n",
       "    </tr>\n",
       "  </thead>\n",
       "  <tbody>\n",
       "    <tr>\n",
       "      <th>417</th>\n",
       "      <td>1900</td>\n",
       "      <td>Paris</td>\n",
       "      <td>Golf</td>\n",
       "      <td>Golf</td>\n",
       "      <td>ABBOTT, Margaret Ives</td>\n",
       "      <td>USA</td>\n",
       "      <td>Women</td>\n",
       "      <td>Individual</td>\n",
       "      <td>Gold</td>\n",
       "    </tr>\n",
       "    <tr>\n",
       "      <th>641</th>\n",
       "      <td>1900</td>\n",
       "      <td>Paris</td>\n",
       "      <td>Tennis</td>\n",
       "      <td>Tennis</td>\n",
       "      <td>COOPER, Charlotte</td>\n",
       "      <td>GBR</td>\n",
       "      <td>Women</td>\n",
       "      <td>Mixed Doubles</td>\n",
       "      <td>Gold</td>\n",
       "    </tr>\n",
       "    <tr>\n",
       "      <th>649</th>\n",
       "      <td>1900</td>\n",
       "      <td>Paris</td>\n",
       "      <td>Tennis</td>\n",
       "      <td>Tennis</td>\n",
       "      <td>COOPER, Charlotte</td>\n",
       "      <td>GBR</td>\n",
       "      <td>Women</td>\n",
       "      <td>Singles</td>\n",
       "      <td>Gold</td>\n",
       "    </tr>\n",
       "    <tr>\n",
       "      <th>710</th>\n",
       "      <td>1904</td>\n",
       "      <td>St Louis</td>\n",
       "      <td>Archery</td>\n",
       "      <td>Archery</td>\n",
       "      <td>HOWELL, Matilda Scott</td>\n",
       "      <td>USA</td>\n",
       "      <td>Women</td>\n",
       "      <td>Double Columbia Round (50Y - 40Y - 30Y)</td>\n",
       "      <td>Gold</td>\n",
       "    </tr>\n",
       "    <tr>\n",
       "      <th>713</th>\n",
       "      <td>1904</td>\n",
       "      <td>St Louis</td>\n",
       "      <td>Archery</td>\n",
       "      <td>Archery</td>\n",
       "      <td>HOWELL, Matilda Scott</td>\n",
       "      <td>USA</td>\n",
       "      <td>Women</td>\n",
       "      <td>Double National Round (60Y - 50Y)</td>\n",
       "      <td>Gold</td>\n",
       "    </tr>\n",
       "    <tr>\n",
       "      <th>...</th>\n",
       "      <td>...</td>\n",
       "      <td>...</td>\n",
       "      <td>...</td>\n",
       "      <td>...</td>\n",
       "      <td>...</td>\n",
       "      <td>...</td>\n",
       "      <td>...</td>\n",
       "      <td>...</td>\n",
       "      <td>...</td>\n",
       "    </tr>\n",
       "    <tr>\n",
       "      <th>31081</th>\n",
       "      <td>2012</td>\n",
       "      <td>London</td>\n",
       "      <td>Weightlifting</td>\n",
       "      <td>Weightlifting</td>\n",
       "      <td>VALENTIN PEREZ, Lidia</td>\n",
       "      <td>ESP</td>\n",
       "      <td>Women</td>\n",
       "      <td>75KG</td>\n",
       "      <td>Gold</td>\n",
       "    </tr>\n",
       "    <tr>\n",
       "      <th>31097</th>\n",
       "      <td>2012</td>\n",
       "      <td>London</td>\n",
       "      <td>Wrestling</td>\n",
       "      <td>Wrestling Freestyle</td>\n",
       "      <td>OBARA, Hitomi</td>\n",
       "      <td>JPN</td>\n",
       "      <td>Women</td>\n",
       "      <td>Wf 48 KG</td>\n",
       "      <td>Gold</td>\n",
       "    </tr>\n",
       "    <tr>\n",
       "      <th>31105</th>\n",
       "      <td>2012</td>\n",
       "      <td>London</td>\n",
       "      <td>Wrestling</td>\n",
       "      <td>Wrestling Freestyle</td>\n",
       "      <td>YOSHIDA, Saori</td>\n",
       "      <td>JPN</td>\n",
       "      <td>Women</td>\n",
       "      <td>Wf 55 KG</td>\n",
       "      <td>Gold</td>\n",
       "    </tr>\n",
       "    <tr>\n",
       "      <th>31113</th>\n",
       "      <td>2012</td>\n",
       "      <td>London</td>\n",
       "      <td>Wrestling</td>\n",
       "      <td>Wrestling Freestyle</td>\n",
       "      <td>ICHO, Kaori</td>\n",
       "      <td>JPN</td>\n",
       "      <td>Women</td>\n",
       "      <td>Wf 63 KG</td>\n",
       "      <td>Gold</td>\n",
       "    </tr>\n",
       "    <tr>\n",
       "      <th>31121</th>\n",
       "      <td>2012</td>\n",
       "      <td>London</td>\n",
       "      <td>Wrestling</td>\n",
       "      <td>Wrestling Freestyle</td>\n",
       "      <td>VOROBIEVA, Natalia</td>\n",
       "      <td>RUS</td>\n",
       "      <td>Women</td>\n",
       "      <td>Wf 72 KG</td>\n",
       "      <td>Gold</td>\n",
       "    </tr>\n",
       "  </tbody>\n",
       "</table>\n",
       "<p>2788 rows × 9 columns</p>\n",
       "</div>"
      ],
      "text/plain": [
       "       Year      City          Sport           Discipline  \\\n",
       "417    1900     Paris           Golf                 Golf   \n",
       "641    1900     Paris         Tennis               Tennis   \n",
       "649    1900     Paris         Tennis               Tennis   \n",
       "710    1904  St Louis        Archery              Archery   \n",
       "713    1904  St Louis        Archery              Archery   \n",
       "...     ...       ...            ...                  ...   \n",
       "31081  2012    London  Weightlifting        Weightlifting   \n",
       "31097  2012    London      Wrestling  Wrestling Freestyle   \n",
       "31105  2012    London      Wrestling  Wrestling Freestyle   \n",
       "31113  2012    London      Wrestling  Wrestling Freestyle   \n",
       "31121  2012    London      Wrestling  Wrestling Freestyle   \n",
       "\n",
       "                     Athlete Country Gender  \\\n",
       "417    ABBOTT, Margaret Ives     USA  Women   \n",
       "641        COOPER, Charlotte     GBR  Women   \n",
       "649        COOPER, Charlotte     GBR  Women   \n",
       "710    HOWELL, Matilda Scott     USA  Women   \n",
       "713    HOWELL, Matilda Scott     USA  Women   \n",
       "...                      ...     ...    ...   \n",
       "31081  VALENTIN PEREZ, Lidia     ESP  Women   \n",
       "31097          OBARA, Hitomi     JPN  Women   \n",
       "31105         YOSHIDA, Saori     JPN  Women   \n",
       "31113            ICHO, Kaori     JPN  Women   \n",
       "31121     VOROBIEVA, Natalia     RUS  Women   \n",
       "\n",
       "                                         Event Medal  \n",
       "417                                 Individual  Gold  \n",
       "641                              Mixed Doubles  Gold  \n",
       "649                                    Singles  Gold  \n",
       "710    Double Columbia Round (50Y - 40Y - 30Y)  Gold  \n",
       "713          Double National Round (60Y - 50Y)  Gold  \n",
       "...                                        ...   ...  \n",
       "31081                                     75KG  Gold  \n",
       "31097                                 Wf 48 KG  Gold  \n",
       "31105                                 Wf 55 KG  Gold  \n",
       "31113                                 Wf 63 KG  Gold  \n",
       "31121                                 Wf 72 KG  Gold  \n",
       "\n",
       "[2788 rows x 9 columns]"
      ]
     },
     "execution_count": 35,
     "metadata": {},
     "output_type": "execute_result"
    }
   ],
   "source": [
    "df_gold_female"
   ]
  },
  {
   "cell_type": "code",
   "execution_count": 36,
   "metadata": {},
   "outputs": [
    {
     "data": {
      "text/plain": [
       "Text(0.5, 1.0, 'Top 5 Sport with Most Number of Female Gold Medalists')"
      ]
     },
     "execution_count": 36,
     "metadata": {},
     "output_type": "execute_result"
    },
    {
     "data": {
      "image/png": "[encoded data removed]",
      "text/plain": [
       "<Figure size 576x360 with 1 Axes>"
      ]
     },
     "metadata": {
      "needs_background": "light"
     },
     "output_type": "display_data"
    }
   ],
   "source": [
    "df_gold_female.groupby('Sport').count()['Gender'].sort_values(ascending=False).head().plot.bar(figsize=(8,5))\n",
    "plt.title('Top 5 Sport with Most Number of Female Gold Medalists')"
   ]
  },
  {
   "cell_type": "code",
   "execution_count": 37,
   "metadata": {},
   "outputs": [
    {
     "data": {
      "text/plain": [
       "589"
      ]
     },
     "execution_count": 37,
     "metadata": {},
     "output_type": "execute_result"
    }
   ],
   "source": [
    "len(df_gold_female[df_gold_female['Sport']=='Aquatics'])"
   ]
  },
  {
   "cell_type": "code",
   "execution_count": 38,
   "metadata": {},
   "outputs": [
    {
     "data": {
      "text/plain": [
       "389"
      ]
     },
     "execution_count": 38,
     "metadata": {},
     "output_type": "execute_result"
    }
   ],
   "source": [
    "len(df_gold_female[df_gold_female['Sport']=='Athletics'])"
   ]
  },
  {
   "cell_type": "code",
   "execution_count": 39,
   "metadata": {},
   "outputs": [
    {
     "data": {
      "text/plain": [
       "268"
      ]
     },
     "execution_count": 39,
     "metadata": {},
     "output_type": "execute_result"
    }
   ],
   "source": [
    "len(df_gold_female[df_gold_female['Sport']=='Gymnastics'])"
   ]
  },
  {
   "cell_type": "code",
   "execution_count": 40,
   "metadata": {},
   "outputs": [
    {
     "data": {
      "text/plain": [
       "217"
      ]
     },
     "execution_count": 40,
     "metadata": {},
     "output_type": "execute_result"
    }
   ],
   "source": [
    "len(df_gold_female[df_gold_female['Sport']=='Rowing'])"
   ]
  },
  {
   "cell_type": "code",
   "execution_count": 41,
   "metadata": {},
   "outputs": [
    {
     "data": {
      "text/plain": [
       "166"
      ]
     },
     "execution_count": 41,
     "metadata": {},
     "output_type": "execute_result"
    }
   ],
   "source": [
    "len(df_gold_female[df_gold_female['Sport']=='Volleyball'])"
   ]
  },
  {
   "cell_type": "code",
   "execution_count": null,
   "metadata": {},
   "outputs": [],
   "source": []
  }
 ],
 "metadata": {
  "kernelspec": {
   "display_name": "Python 3",
   "language": "python",
   "name": "python3"
  },
  "language_info": {
   "codemirror_mode": {
    "name": "ipython",
    "version": 3
   },
   "file_extension": ".py",
   "mimetype": "text/x-python",
   "name": "python",
   "nbconvert_exporter": "python",
   "pygments_lexer": "ipython3",
   "version": "3.8.8"
  }
 },
 "nbformat": 4,
 "nbformat_minor": 2
}
